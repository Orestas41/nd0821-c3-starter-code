{
 "cells": [
  {
   "cell_type": "markdown",
   "id": "2eb27fc7",
   "metadata": {},
   "source": [
    "# EDA"
   ]
  },
  {
   "cell_type": "markdown",
   "id": "94e834eb",
   "metadata": {},
   "source": [
    "## Importing pandas library"
   ]
  },
  {
   "cell_type": "code",
   "execution_count": 1,
   "id": "70ca269d",
   "metadata": {},
   "outputs": [],
   "source": [
    "import pandas as pd"
   ]
  },
  {
   "cell_type": "markdown",
   "id": "8416225c",
   "metadata": {},
   "source": [
    "## Importing the data"
   ]
  },
  {
   "cell_type": "code",
   "execution_count": 2,
   "id": "8d6505fc",
   "metadata": {},
   "outputs": [],
   "source": [
    "df = pd.read_csv('data/census.csv')"
   ]
  },
  {
   "cell_type": "markdown",
   "id": "61735445",
   "metadata": {},
   "source": [
    "## Removing spaces in column names"
   ]
  },
  {
   "cell_type": "code",
   "execution_count": 6,
   "id": "99ed5237",
   "metadata": {},
   "outputs": [],
   "source": [
    "columns = [col.replace(\" \", \"\") for col in df.columns]\n",
    "df.columns = columns"
   ]
  },
  {
   "cell_type": "markdown",
   "id": "c705a75a",
   "metadata": {},
   "source": [
    "## Removing spaces from the categorical data"
   ]
  },
  {
   "cell_type": "code",
   "execution_count": 10,
   "id": "16f97ecd",
   "metadata": {},
   "outputs": [],
   "source": [
    "for col in df.columns:\n",
    "    if col[0] == 'str':\n",
    "        df[col] = df[col].replace(\" \", \"\")"
   ]
  },
  {
   "cell_type": "markdown",
   "id": "bf60f504",
   "metadata": {},
   "source": [
    "## Saving cleaned data as a new .csv file"
   ]
  },
  {
   "cell_type": "code",
   "execution_count": 17,
   "id": "85cf2df1",
   "metadata": {},
   "outputs": [],
   "source": [
    "df.to_csv('./data/clean_census.csv', index=False)"
   ]
  }
 ],
 "metadata": {
  "kernelspec": {
   "display_name": "Python 3",
   "language": "python",
   "name": "python3"
  },
  "language_info": {
   "codemirror_mode": {
    "name": "ipython",
    "version": 3
   },
   "file_extension": ".py",
   "mimetype": "text/x-python",
   "name": "python",
   "nbconvert_exporter": "python",
   "pygments_lexer": "ipython3",
   "version": "3.8.10 (default, Jun 22 2022, 20:18:18) \n[GCC 9.4.0]"
  },
  "vscode": {
   "interpreter": {
    "hash": "916dbcbb3f70747c44a77c7bcd40155683ae19c65e1c03b4aa3499c5328201f1"
   }
  }
 },
 "nbformat": 4,
 "nbformat_minor": 5
}
